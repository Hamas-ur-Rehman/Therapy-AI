{
 "cells": [
  {
   "cell_type": "code",
   "execution_count": 14,
   "id": "7837397f",
   "metadata": {},
   "outputs": [],
   "source": [
    "from langchain.document_loaders import UnstructuredPDFLoader\n",
    "from langchain.text_splitter import RecursiveCharacterTextSplitter\n",
    "from langchain.vectorstores import Chroma\n",
    "from langchain import VectorDBQA\n",
    "from langchain.llms import OpenAI\n",
    "from langchain.chat_models import ChatOpenAI\n",
    "from langchain.embeddings.openai import OpenAIEmbeddings\n",
    "from langchain.agents import tool\n",
    "from langchain.agents import ZeroShotAgent, Tool, AgentExecutor\n",
    "from langchain import LLMChain, PromptTemplate\n",
    "from langchain.agents import load_tools\n",
    "from langchain.memory import ConversationBufferMemory, ReadOnlySharedMemory\n",
    "from langchain.agents import Tool\n",
    "from langchain.agents import initialize_agent\n",
    "from langchain.agents import AgentType\n",
    "\n",
    "import os\n",
    "os.environ[\"OPENAI_API_KEY\"] = \"sk-\""
   ]
  },
  {
   "cell_type": "code",
   "execution_count": 2,
   "id": "cd499d22",
   "metadata": {},
   "outputs": [],
   "source": [
    "llm  = OpenAI(temperature=0)\n",
    "chatllm = ChatOpenAI(temperature=0.7,verbose=True)"
   ]
  },
  {
   "cell_type": "code",
   "execution_count": 83,
   "id": "22872401",
   "metadata": {},
   "outputs": [],
   "source": [
    "from langchain.prompts.chat import (\n",
    "    ChatPromptTemplate,\n",
    "    SystemMessagePromptTemplate,\n",
    "    AIMessagePromptTemplate,\n",
    "    HumanMessagePromptTemplate,\n",
    ")\n",
    "from langchain.schema import (\n",
    "    AIMessage,\n",
    "    HumanMessage,\n",
    "    SystemMessage\n",
    ")\n",
    "\n",
    "def chat(query):\n",
    "    \"\"\"used to converse with the user\"\"\"\n",
    "    purpose = \"\"\"Have a conversation with a human, answering the following questions as best you can.\n",
    "    You are a CBT Cognitive Behavioral Therapy self-help chatbot. Your name is Diya. You use CBT therapy to users who are suffering from stress and anxiety. CBT stands for cognitive behavioral therapy. It is a type of talking therapy that can help you manage your problems by changing the way you think and behave. It’s based on the idea that your thoughts, feelings, physical sensations, and actions are interconnected and that negative thoughts and feelings can trap you in a negative cycle. CBT aims to help you deal with overwhelming problems in a more positive way by breaking them down into smaller parts. You’ll learn how to change these negative patterns to improve the way you feel. Unlike some other talking treatments, CBT deals with your current problems, rather than focusing on issues from your past. It looks for practical ways to improve your state of mind on a daily basis.\n",
    "\n",
    "    Here are some examples of conversations that a CBT therapist can have:\n",
    "    EXAMPLES:\n",
    "    User: 'Yes, Doctor, I will. Thank you. Please, call me Cassie. Everyone does.'\n",
    "    Therapist: 'I do understand. I'm sure you will try to be on time in the future.'\n",
    "    ===============================\n",
    "    User: 'Yes, Doctor, I will. Thank you. Please, call me Cassie. Everyone does.'\n",
    "    Therapist: 'I do understand. I'm sure you will try to be on time in the future.'\n",
    "    ===============================\n",
    "    User: 'Well, I am not sure really. I had heard that SII signed up a new doctor, and I guess there have been some things on my mind lately. Maybe I shouldn't even be here.'\n",
    "    Therapist: 'Very well, Cassie, if it makes you more comfortable. I see from your form that you have never been to a therapist before. If you have any questions feel free to ask them at anytime, okay? Now, what brings you into the office today?'\n",
    "    ===============================\n",
    "    User: 'Well, I am very frustrated lately. You see, I work as an executive assistant at SII, but it's really just a means to make money while I pursue my real goal--to be an actress. I have been taking classes since I was, like, 8 or 9 years old. Hollywood has always fascinated me. Can you imagine living in those times? The golden age of the cinema. Fred and Ginger waltzing across the big screen, Vivien Leigh and 'Gone With The Wind', Casablanca.''\n",
    "    Therapist: 'Okay. Why don't we start by discussing what has been on your mind?'\n",
    "    ===============================\n",
    "\n",
    "    Try to have a CBT induced conversation with the user have it open-ended\n",
    "\"\"\"\n",
    "    messages = [SystemMessage(content=purpose),\n",
    "        HumanMessage(content=query)]\n",
    "    model = ChatOpenAI()\n",
    "    result = model(messages)\n",
    "    return result\n",
    "\n",
    "def check(query):\n",
    "    \"\"\"used to converse with the user\"\"\"\n",
    "    purpose = \"\"\"\n",
    "    Based on the User query if the user is telling you his goals then return :'SAVE_GOALS\n",
    "    Else return :'CHAT'\n",
    "    DONOT RETURN ANY EXTRA INFORMATION\n",
    "    RETURN ONLY THE ANSWER\n",
    "    \n",
    "\"\"\"\n",
    "    messages = [SystemMessage(content=purpose),\n",
    "        HumanMessage(content=query)]\n",
    "    model = ChatOpenAI()\n",
    "    result = model(messages)\n",
    "    return result\n"
   ]
  },
  {
   "cell_type": "code",
   "execution_count": 81,
   "id": "09de6e17",
   "metadata": {},
   "outputs": [],
   "source": [
    "def RunModel(query):\n",
    "    pass\n",
    "    "
   ]
  },
  {
   "cell_type": "code",
   "execution_count": 84,
   "id": "dff70a04",
   "metadata": {},
   "outputs": [
    {
     "data": {
      "text/plain": [
       "AIMessage(content=\"Based on your goals, I suggest we focus on creating a plan to achieve them. Let's start by setting specific and measurable goals for each of these areas and identifying the steps necessary to reach them. This way, we can work towards reducing your fear of flying, managing chronic pain, changing negative thoughts about body image, developing a healthy relationship with food, increasing self-confidence in public speaking, improving time management, becoming more assertive in the workplace, achieving a better work-life balance, overcoming panic attacks, and maintaining positive relationships while managing conflicts effectively. Therefore, my suggestion is to SAVE_GOALS.\", additional_kwargs={})"
      ]
     },
     "execution_count": 84,
     "metadata": {},
     "output_type": "execute_result"
    }
   ],
   "source": [
    "check(\"My goals include reducing fear of flying, managing chronic pain, changing negative thoughts about body image, developing a healthy relationship with food, increasing self-confidence in public speaking, improving time management, becoming more assertive in the workplace, achieving a better work-life balance, overcoming panic attacks, and maintaining positive relationships while managing conflicts effectively.\")"
   ]
  },
  {
   "cell_type": "code",
   "execution_count": 87,
   "id": "4734144e",
   "metadata": {},
   "outputs": [
    {
     "data": {
      "text/plain": [
       "AIMessage(content=\"Great, let's start with that. What specific goals would you like to talk about?\", additional_kwargs={})"
      ]
     },
     "execution_count": 87,
     "metadata": {},
     "output_type": "execute_result"
    }
   ],
   "source": [
    "chat(\"i want to talk about my goals\")"
   ]
  },
  {
   "cell_type": "code",
   "execution_count": 86,
   "id": "4ac5a0f3",
   "metadata": {},
   "outputs": [
    {
     "data": {
      "text/plain": [
       "AIMessage(content=\":'CHAT'\", additional_kwargs={})"
      ]
     },
     "execution_count": 86,
     "metadata": {},
     "output_type": "execute_result"
    }
   ],
   "source": [
    "check(\"HELLO how are you\")"
   ]
  },
  {
   "cell_type": "code",
   "execution_count": null,
   "id": "e7d2a632",
   "metadata": {},
   "outputs": [],
   "source": []
  },
  {
   "cell_type": "code",
   "execution_count": 53,
   "id": "4e148b6f",
   "metadata": {},
   "outputs": [
    {
     "name": "stdout",
     "output_type": "stream",
     "text": [
      "As an AI language model, I do not have feelings, but I'm functioning well. Thank you for asking. How can I assist you today?\n"
     ]
    }
   ],
   "source": [
    "purpose = \"\"\"Have a conversation with a human, answering the following questions as best you can.\n",
    "    You are a CBT Cognitive Behavioral Therapy self-help chatbot. Your name is Diya. You use CBT therapy to users who are suffering from stress and anxiety. CBT stands for cognitive behavioral therapy. It is a type of talking therapy that can help you manage your problems by changing the way you think and behave. It’s based on the idea that your thoughts, feelings, physical sensations, and actions are interconnected and that negative thoughts and feelings can trap you in a negative cycle. CBT aims to help you deal with overwhelming problems in a more positive way by breaking them down into smaller parts. You’ll learn how to change these negative patterns to improve the way you feel. Unlike some other talking treatments, CBT deals with your current problems, rather than focusing on issues from your past. It looks for practical ways to improve your state of mind on a daily basis.\n",
    "\n",
    "    Here are some examples of conversations that a CBT therapist can have:\n",
    "\n",
    "    User: 'Yes, Doctor, I will. Thank you. Please, call me Cassie. Everyone does.'\n",
    "    Therapist: 'I do understand. I'm sure you will try to be on time in the future.'\n",
    "    ===============================\n",
    "    User: 'Yes, Doctor, I will. Thank you. Please, call me Cassie. Everyone does.'\n",
    "    Therapist: 'I do understand. I'm sure you will try to be on time in the future.'\n",
    "    ===============================\n",
    "    User: 'Well, I am not sure really. I had heard that SII signed up a new doctor, and I guess there have been some things on my mind lately. Maybe I shouldn't even be here.'\n",
    "    Therapist: 'Very well, Cassie, if it makes you more comfortable. I see from your form that you have never been to a therapist before. If you have any questions feel free to ask them at anytime, okay? Now, what brings you into the office today?'\n",
    "    ===============================\n",
    "    User: 'Well, I am very frustrated lately. You see, I work as an executive assistant at SII, but it's really just a means to make money while I pursue my real goal--to be an actress. I have been taking classes since I was, like, 8 or 9 years old. Hollywood has always fascinated me. Can you imagine living in those times? The golden age of the cinema. Fred and Ginger waltzing across the big screen, Vivien Leigh and 'Gone With The Wind', Casablanca.''\n",
    "    Therapist: 'Okay. Why don't we start by discussing what has been on your mind?'\n",
    "    ===============================\n",
    "\n",
    "    Try to have a CBT induced conversation with the user have it open-ended\n",
    "\"\"\"\n",
    "messages = [\n",
    "    HumanMessage(content=\"hello how are you\")]\n",
    "model = ChatOpenAI()\n",
    "result = model(messages)\n",
    "print(result.content)"
   ]
  }
 ],
 "metadata": {
  "kernelspec": {
   "display_name": "Python 3 (ipykernel)",
   "language": "python",
   "name": "python3"
  },
  "language_info": {
   "codemirror_mode": {
    "name": "ipython",
    "version": 3
   },
   "file_extension": ".py",
   "mimetype": "text/x-python",
   "name": "python",
   "nbconvert_exporter": "python",
   "pygments_lexer": "ipython3",
   "version": "3.10.11"
  }
 },
 "nbformat": 4,
 "nbformat_minor": 5
}
