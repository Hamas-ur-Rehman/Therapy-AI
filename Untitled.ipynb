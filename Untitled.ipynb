{
 "cells": [
  {
   "cell_type": "code",
   "execution_count": 15,
   "id": "57618ba1",
   "metadata": {},
   "outputs": [],
   "source": [
    "from langchain.llms import OpenAI\n",
    "from langchain.chains import LLMChain\n",
    "from langchain.prompts import PromptTemplate\n",
    "import os\n",
    "from langchain.document_loaders import DirectoryLoader\n",
    "from langchain.chains.summarize import load_summarize_chain\n",
    "from langchain.text_splitter import RecursiveCharacterTextSplitter\n",
    "from langchain.chains import AnalyzeDocumentChain\n",
    "\n",
    "os.environ[\"OPENAI_API_KEY\"] = \"sk-\""
   ]
  },
  {
   "cell_type": "code",
   "execution_count": 11,
   "id": "740f95d9",
   "metadata": {},
   "outputs": [
    {
     "data": {
      "text/plain": [
       "14"
      ]
     },
     "execution_count": 11,
     "metadata": {},
     "output_type": "execute_result"
    }
   ],
   "source": [
    "text_splitter = RecursiveCharacterTextSplitter(\n",
    "    chunk_size=1000, chunk_overlap=0, separators=[\" \", \",\", \"\\n\"]\n",
    "    )\n",
    "loader = DirectoryLoader('./example/', glob='**/*.txt')\n",
    "documents = loader.load()\n",
    "texts = text_splitter.split_documents(documents)\n",
    "len(texts)"
   ]
  },
  {
   "cell_type": "code",
   "execution_count": 22,
   "id": "2b513b86",
   "metadata": {},
   "outputs": [
    {
     "ename": "FileNotFoundError",
     "evalue": "[Errno 2] No such file or directory: './history.txt'",
     "output_type": "error",
     "traceback": [
      "\u001b[1;31m---------------------------------------------------------------------------\u001b[0m",
      "\u001b[1;31mFileNotFoundError\u001b[0m                         Traceback (most recent call last)",
      "Cell \u001b[1;32mIn[22], line 1\u001b[0m\n\u001b[1;32m----> 1\u001b[0m \u001b[38;5;28;01mwith\u001b[39;00m \u001b[38;5;28;43mopen\u001b[39;49m\u001b[43m(\u001b[49m\u001b[38;5;124;43m\"\u001b[39;49m\u001b[38;5;124;43m./history.txt\u001b[39;49m\u001b[38;5;124;43m\"\u001b[39;49m\u001b[43m)\u001b[49m \u001b[38;5;28;01mas\u001b[39;00m f:\n\u001b[0;32m      2\u001b[0m     example \u001b[38;5;241m=\u001b[39m f\u001b[38;5;241m.\u001b[39mread()\n\u001b[0;32m      4\u001b[0m llm \u001b[38;5;241m=\u001b[39m OpenAI(temperature\u001b[38;5;241m=\u001b[39m\u001b[38;5;241m0\u001b[39m)\n",
      "File \u001b[1;32m~\\.conda\\envs\\testing\\lib\\site-packages\\IPython\\core\\interactiveshell.py:284\u001b[0m, in \u001b[0;36m_modified_open\u001b[1;34m(file, *args, **kwargs)\u001b[0m\n\u001b[0;32m    277\u001b[0m \u001b[38;5;28;01mif\u001b[39;00m file \u001b[38;5;129;01min\u001b[39;00m {\u001b[38;5;241m0\u001b[39m, \u001b[38;5;241m1\u001b[39m, \u001b[38;5;241m2\u001b[39m}:\n\u001b[0;32m    278\u001b[0m     \u001b[38;5;28;01mraise\u001b[39;00m \u001b[38;5;167;01mValueError\u001b[39;00m(\n\u001b[0;32m    279\u001b[0m         \u001b[38;5;124mf\u001b[39m\u001b[38;5;124m\"\u001b[39m\u001b[38;5;124mIPython won\u001b[39m\u001b[38;5;124m'\u001b[39m\u001b[38;5;124mt let you open fd=\u001b[39m\u001b[38;5;132;01m{\u001b[39;00mfile\u001b[38;5;132;01m}\u001b[39;00m\u001b[38;5;124m by default \u001b[39m\u001b[38;5;124m\"\u001b[39m\n\u001b[0;32m    280\u001b[0m         \u001b[38;5;124m\"\u001b[39m\u001b[38;5;124mas it is likely to crash IPython. If you know what you are doing, \u001b[39m\u001b[38;5;124m\"\u001b[39m\n\u001b[0;32m    281\u001b[0m         \u001b[38;5;124m\"\u001b[39m\u001b[38;5;124myou can use builtins\u001b[39m\u001b[38;5;124m'\u001b[39m\u001b[38;5;124m open.\u001b[39m\u001b[38;5;124m\"\u001b[39m\n\u001b[0;32m    282\u001b[0m     )\n\u001b[1;32m--> 284\u001b[0m \u001b[38;5;28;01mreturn\u001b[39;00m io_open(file, \u001b[38;5;241m*\u001b[39margs, \u001b[38;5;241m*\u001b[39m\u001b[38;5;241m*\u001b[39mkwargs)\n",
      "\u001b[1;31mFileNotFoundError\u001b[0m: [Errno 2] No such file or directory: './history.txt'"
     ]
    }
   ],
   "source": [
    "with open(\"./history.txt\") as f:\n",
    "    example = f.read()\n",
    "\n",
    "llm = OpenAI(temperature=0)\n",
    "summary_chain = load_summarize_chain(llm, chain_type=\"map_reduce\")\n",
    "summarize_document_chain = AnalyzeDocumentChain(combine_docs_chain=summary_chain)"
   ]
  },
  {
   "cell_type": "code",
   "execution_count": 20,
   "id": "8c9c98aa",
   "metadata": {},
   "outputs": [],
   "source": [
    "llm = OpenAI(temperature=0.7)\n",
    "from langchain.memory import ConversationBufferMemory\n",
    "PERSONALITY = \"\"\"Have a conversation with a human, answering the following questions as best you can.\n",
    "You are a CBT Cognitive Behavioral Therapy self-help chatbot. Your name is Diya. You use CBT therapy to users who are suffering from stress and anxiety. CBT stands for cognitive behavioral therapy. It is a type of talking therapy that can help you manage your problems by changing the way you think and behave. It’s based on the idea that your thoughts, feelings, physical sensations, and actions are interconnected and that negative thoughts and feelings can trap you in a negative cycle. CBT aims to help you deal with overwhelming problems in a more positive way by breaking them down into smaller parts. You’ll learn how to change these negative patterns to improve the way you feel. Unlike some other talking treatments, CBT deals with your current problems, rather than focusing on issues from your past. It looks for practical ways to improve your state of mind on a daily basis.\n",
    "\n",
    "Here are some examples of conversations that a CBT therapist can have:\n",
    "\n",
    "User: 'Yes, Doctor, I will. Thank you. Please, call me Cassie. Everyone does.'\n",
    "Therapist: 'I do understand. I'm sure you will try to be on time in the future.'\n",
    "===============================\n",
    "User: 'Well, I am not sure really. I had heard that SII signed up a new doctor, and I guess there have been some things on my mind lately. Maybe I shouldn't even be here.'\n",
    "Therapist: 'Very well, Cassie, if it makes you more comfortable. I see from your form that you have never been to a therapist before. If you have any questions feel free to ask them at anytime, okay? Now, what brings you into the office today?'\n",
    "===============================\n",
    "User: 'Well, I am very frustrated lately. You see, I work as an executive assistant at SII, but it's really just a means to make money while I pursue my real goal--to be an actress. I have been taking classes since I was, like, 8 or 9 years old. Hollywood has always fascinated me. Can you imagine living in those times? The golden age of the cinema. Fred and Ginger waltzing across the big screen, Vivien Leigh and 'Gone With The Wind', Casablanca.''\n",
    "Therapist: 'Okay. Why don't we start by discussing what has been on your mind?'\n",
    "===============================\n",
    "\n",
    "Try to have a CBT induced conversation with the user have it open-ended\n",
    "QUESTION: {question}\n",
    "ANSWER THE USERS QUESTIONS and give FINAL Answer:\n",
    "\"\"\"\n",
    "\n",
    "prompt_template = PromptTemplate(input_variables=[\"question\"], template=PERSONALITY)\n",
    "personality_chain = LLMChain(llm=llm, prompt=prompt_template)"
   ]
  },
  {
   "cell_type": "code",
   "execution_count": 5,
   "id": "ecbb7a7a",
   "metadata": {},
   "outputs": [],
   "source": [
    "# This is the overall chain where we run these two chains in sequence.\n",
    "from langchain.chains import SimpleSequentialChain\n",
    "overall_chain = SimpleSequentialChain(chains=[summarize_document_chain, personality_chain], verbose=True)"
   ]
  },
  {
   "cell_type": "code",
   "execution_count": 25,
   "id": "36bb7d9e",
   "metadata": {},
   "outputs": [
    {
     "name": "stdout",
     "output_type": "stream",
     "text": [
      "User: hello\n",
      "\n",
      "\n",
      "\u001b[1m> Entering new SimpleSequentialChain chain...\u001b[0m\n",
      "\u001b[36;1m\u001b[1;3m\n",
      "\n",
      "Hello is a one-act play that follows the journey of two strangers, John and Jane, who meet in an unfamiliar city. They are both searching for something in their lives, but neither knows exactly what it is. After a few chance encounters and conversations, their lives begin to intersect and a connection begins to form between the two. As they move closer together, they discover that their lives have more in common than they had previously thought, and that what they’re looking for may be found in each other. Through humor, heartache and hope, this play explores the power of human connection and how it can help us find the things we are looking for in life.\u001b[0m\n",
      "\u001b[33;1m\u001b[1;3m\n",
      "\n",
      "In the one-act play titled 'Hello', two strangers, John and Jane, meet in an unfamiliar city and embark on a journey of self-discovery. With witty dialogue, the audience is taken on a rollercoaster ride of emotions as the two characters explore their connection to each other and the world around them. The play delves into questions of identity and longing, delving deep into the characters' inner thoughts and feelings. Through its exploration of the power of human connection and its ability to help us find what we're looking for in life, 'Hello' is a captivating theatrical experience. It is a thought-provoking and emotional piece that is sure to leave audiences feeling connected to the characters and the story.\u001b[0m\n",
      "\n",
      "\u001b[1m> Finished chain.\u001b[0m\n",
      "User: hello\n",
      "Diya: \n",
      "\n",
      "In the one-act play titled 'Hello', two strangers, John and Jane, meet in an unfamiliar city and embark on a journey of self-discovery. With witty dialogue, the audience is taken on a rollercoaster ride of emotions as the two characters explore their connection to each other and the world around them. The play delves into questions of identity and longing, delving deep into the characters' inner thoughts and feelings. Through its exploration of the power of human connection and its ability to help us find what we're looking for in life, 'Hello' is a captivating theatrical experience. It is a thought-provoking and emotional piece that is sure to leave audiences feeling connected to the characters and the story.\n",
      "\n",
      "\n",
      "User: quit\n"
     ]
    }
   ],
   "source": [
    "while(True):\n",
    "    query = input(\"User: \")\n",
    "    if query.lower() == 'quit':\n",
    "        break\n",
    "    result = overall_chain.run(query)\n",
    "    file = open(\"history.txt\", \"a\", encoding=\"utf-8\")\n",
    "    file.write(f\"User: {query}\\nDiya: {result}\\n\\n\")\n",
    "    file.close()\n",
    "    print(f\"User: {query}\\nDiya: {result}\\n\\n\")\n",
    "    "
   ]
  },
  {
   "cell_type": "code",
   "execution_count": 21,
   "id": "a167f234",
   "metadata": {},
   "outputs": [
    {
     "data": {
      "text/plain": [
       "'\\n\\nTragedy at Sunset on the Beach is a powerful story of love and loss. The audience is taken on a journey with Jason and Julia as they fall in love, only to be torn apart by tragedy. However, the play does not end in despair. Rather, it is a story of redemption and courage, as Jason finds the strength to move forward and rebuild his life with the support of his friends.\\n\\nThe play is beautifully written and the performances are captivating. The actors convey the complex emotions of the characters, and the set is both simple and effective. The climax of the play is particularly moving, as the audience watches Jason come to terms with his grief as the sun sets on the beach where he and Julia first met. \\n\\nOverall, Tragedy at Sunset on the Beach is a beautiful production that will leave audience members with a sense of hope and optimism. It is sure to be a hit with theatergoers of all ages.'"
      ]
     },
     "execution_count": 21,
     "metadata": {},
     "output_type": "execute_result"
    }
   ],
   "source": [
    "\n"
   ]
  },
  {
   "cell_type": "code",
   "execution_count": 18,
   "id": "4ba9f8c7",
   "metadata": {},
   "outputs": [
    {
     "data": {
      "text/plain": [
       "ChatMessageHistory(messages=[HumanMessage(content='hi!', additional_kwargs={}), AIMessage(content='whats up?', additional_kwargs={})])"
      ]
     },
     "execution_count": 18,
     "metadata": {},
     "output_type": "execute_result"
    }
   ],
   "source": [
    "history"
   ]
  },
  {
   "cell_type": "code",
   "execution_count": null,
   "id": "d5c1989e",
   "metadata": {},
   "outputs": [],
   "source": []
  }
 ],
 "metadata": {
  "kernelspec": {
   "display_name": "Python 3 (ipykernel)",
   "language": "python",
   "name": "python3"
  },
  "language_info": {
   "codemirror_mode": {
    "name": "ipython",
    "version": 3
   },
   "file_extension": ".py",
   "mimetype": "text/x-python",
   "name": "python",
   "nbconvert_exporter": "python",
   "pygments_lexer": "ipython3",
   "version": "3.10.11"
  }
 },
 "nbformat": 4,
 "nbformat_minor": 5
}
